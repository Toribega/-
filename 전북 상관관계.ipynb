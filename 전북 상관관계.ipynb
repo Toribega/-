{
 "cells": [
  {
   "cell_type": "code",
   "execution_count": 1,
   "metadata": {},
   "outputs": [],
   "source": [
    "import csv\n",
    "import pandas as pd"
   ]
  },
  {
   "cell_type": "code",
   "execution_count": 2,
   "metadata": {},
   "outputs": [
    {
     "data": {
      "text/html": [
       "<div>\n",
       "<style scoped>\n",
       "    .dataframe tbody tr th:only-of-type {\n",
       "        vertical-align: middle;\n",
       "    }\n",
       "\n",
       "    .dataframe tbody tr th {\n",
       "        vertical-align: top;\n",
       "    }\n",
       "\n",
       "    .dataframe thead th {\n",
       "        text-align: right;\n",
       "    }\n",
       "</style>\n",
       "<table border=\"1\" class=\"dataframe\">\n",
       "  <thead>\n",
       "    <tr style=\"text-align: right;\">\n",
       "      <th></th>\n",
       "      <th>전북</th>\n",
       "      <th>녹지</th>\n",
       "      <th>오존</th>\n",
       "      <th>미세먼지</th>\n",
       "      <th>초미세먼지</th>\n",
       "    </tr>\n",
       "  </thead>\n",
       "  <tbody>\n",
       "    <tr>\n",
       "      <th>0</th>\n",
       "      <td>2017</td>\n",
       "      <td>705</td>\n",
       "      <td>0.032444</td>\n",
       "      <td>51.000000</td>\n",
       "      <td>33.142857</td>\n",
       "    </tr>\n",
       "    <tr>\n",
       "      <th>1</th>\n",
       "      <td>2018</td>\n",
       "      <td>699</td>\n",
       "      <td>0.030917</td>\n",
       "      <td>43.916667</td>\n",
       "      <td>25.000000</td>\n",
       "    </tr>\n",
       "    <tr>\n",
       "      <th>2</th>\n",
       "      <td>2019</td>\n",
       "      <td>713</td>\n",
       "      <td>0.032917</td>\n",
       "      <td>43.083333</td>\n",
       "      <td>25.833333</td>\n",
       "    </tr>\n",
       "  </tbody>\n",
       "</table>\n",
       "</div>"
      ],
      "text/plain": [
       "     전북   녹지        오존       미세먼지      초미세먼지\n",
       "0  2017  705  0.032444  51.000000  33.142857\n",
       "1  2018  699  0.030917  43.916667  25.000000\n",
       "2  2019  713  0.032917  43.083333  25.833333"
      ]
     },
     "execution_count": 2,
     "metadata": {},
     "output_type": "execute_result"
    }
   ],
   "source": [
    "jeonbuk = pd.read_csv(\"D:\\pm2021_01\\TeamProject\\전북.csv\",encoding='euc-kr', engine='python')\n",
    "jeonbuk"
   ]
  },
  {
   "cell_type": "code",
   "execution_count": 3,
   "metadata": {},
   "outputs": [],
   "source": [
    "jeonbuk['전북'] = jeonbuk['전북'].astype(object)"
   ]
  },
  {
   "cell_type": "code",
   "execution_count": 4,
   "metadata": {},
   "outputs": [
    {
     "data": {
      "text/html": [
       "<div>\n",
       "<style scoped>\n",
       "    .dataframe tbody tr th:only-of-type {\n",
       "        vertical-align: middle;\n",
       "    }\n",
       "\n",
       "    .dataframe tbody tr th {\n",
       "        vertical-align: top;\n",
       "    }\n",
       "\n",
       "    .dataframe thead th {\n",
       "        text-align: right;\n",
       "    }\n",
       "</style>\n",
       "<table border=\"1\" class=\"dataframe\">\n",
       "  <thead>\n",
       "    <tr style=\"text-align: right;\">\n",
       "      <th></th>\n",
       "      <th>녹지</th>\n",
       "      <th>오존</th>\n",
       "      <th>미세먼지</th>\n",
       "      <th>초미세먼지</th>\n",
       "    </tr>\n",
       "  </thead>\n",
       "  <tbody>\n",
       "    <tr>\n",
       "      <th>녹지</th>\n",
       "      <td>1.000000</td>\n",
       "      <td>0.929531</td>\n",
       "      <td>-0.177280</td>\n",
       "      <td>0.010845</td>\n",
       "    </tr>\n",
       "    <tr>\n",
       "      <th>오존</th>\n",
       "      <td>0.929531</td>\n",
       "      <td>1.000000</td>\n",
       "      <td>0.198115</td>\n",
       "      <td>0.378802</td>\n",
       "    </tr>\n",
       "    <tr>\n",
       "      <th>미세먼지</th>\n",
       "      <td>-0.177280</td>\n",
       "      <td>0.198115</td>\n",
       "      <td>1.000000</td>\n",
       "      <td>0.982180</td>\n",
       "    </tr>\n",
       "    <tr>\n",
       "      <th>초미세먼지</th>\n",
       "      <td>0.010845</td>\n",
       "      <td>0.378802</td>\n",
       "      <td>0.982180</td>\n",
       "      <td>1.000000</td>\n",
       "    </tr>\n",
       "  </tbody>\n",
       "</table>\n",
       "</div>"
      ],
      "text/plain": [
       "             녹지        오존      미세먼지     초미세먼지\n",
       "녹지     1.000000  0.929531 -0.177280  0.010845\n",
       "오존     0.929531  1.000000  0.198115  0.378802\n",
       "미세먼지  -0.177280  0.198115  1.000000  0.982180\n",
       "초미세먼지  0.010845  0.378802  0.982180  1.000000"
      ]
     },
     "execution_count": 4,
     "metadata": {},
     "output_type": "execute_result"
    }
   ],
   "source": [
    "jeonbuk.corr()"
   ]
  },
  {
   "cell_type": "code",
   "execution_count": 5,
   "metadata": {},
   "outputs": [
    {
     "data": {
      "text/plain": [
       "<AxesSubplot:>"
      ]
     },
     "execution_count": 5,
     "metadata": {},
     "output_type": "execute_result"
    },
    {
     "data": {
      "image/png": "[encoded data removed]",
      "text/plain": [
       "<Figure size 1080x1080 with 2 Axes>"
      ]
     },
     "metadata": {
      "needs_background": "light"
     },
     "output_type": "display_data"
    }
   ],
   "source": [
    "import matplotlib.pyplot as plt \n",
    "import seaborn as sns  \n",
    "from matplotlib import font_manager, rc\n",
    "\n",
    "font_name = font_manager.FontProperties(fname = \"c:\\Windows\\Fonts\\malgun.ttf\").get_name()\n",
    "rc(\"font\", family=font_name)\n",
    "plt.figure(figsize=(15,15))\n",
    "sns.heatmap(data = jeonbuk.corr(), annot=True, \n",
    "fmt = '.2f', linewidths=.5, cmap='Blues')"
   ]
  },
  {
   "cell_type": "code",
   "execution_count": null,
   "metadata": {},
   "outputs": [],
   "source": []
  }
 ],
 "metadata": {
  "kernelspec": {
   "display_name": "Python 3",
   "language": "python",
   "name": "python3"
  },
  "language_info": {
   "codemirror_mode": {
    "name": "ipython",
    "version": 3
   },
   "file_extension": ".py",
   "mimetype": "text/x-python",
   "name": "python",
   "nbconvert_exporter": "python",
   "pygments_lexer": "ipython3",
   "version": "3.6.8"
  }
 },
 "nbformat": 4,
 "nbformat_minor": 4
}
