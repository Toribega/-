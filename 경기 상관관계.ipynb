{
 "cells": [
  {
   "cell_type": "code",
   "execution_count": 6,
   "metadata": {},
   "outputs": [],
   "source": [
    "import csv\n",
    "import pandas as pd"
   ]
  },
  {
   "cell_type": "code",
   "execution_count": 8,
   "metadata": {},
   "outputs": [
    {
     "data": {
      "text/html": [
       "<div>\n",
       "<style scoped>\n",
       "    .dataframe tbody tr th:only-of-type {\n",
       "        vertical-align: middle;\n",
       "    }\n",
       "\n",
       "    .dataframe tbody tr th {\n",
       "        vertical-align: top;\n",
       "    }\n",
       "\n",
       "    .dataframe thead th {\n",
       "        text-align: right;\n",
       "    }\n",
       "</style>\n",
       "<table border=\"1\" class=\"dataframe\">\n",
       "  <thead>\n",
       "    <tr style=\"text-align: right;\">\n",
       "      <th></th>\n",
       "      <th>경기</th>\n",
       "      <th>녹지</th>\n",
       "      <th>오존</th>\n",
       "      <th>초미세먼지</th>\n",
       "      <th>미세먼지</th>\n",
       "    </tr>\n",
       "  </thead>\n",
       "  <tbody>\n",
       "    <tr>\n",
       "      <th>0</th>\n",
       "      <td>2017</td>\n",
       "      <td>6380</td>\n",
       "      <td>0.028556</td>\n",
       "      <td>31.285714</td>\n",
       "      <td>54.875000</td>\n",
       "    </tr>\n",
       "    <tr>\n",
       "      <th>1</th>\n",
       "      <td>2018</td>\n",
       "      <td>6836</td>\n",
       "      <td>0.029083</td>\n",
       "      <td>24.600000</td>\n",
       "      <td>44.066667</td>\n",
       "    </tr>\n",
       "    <tr>\n",
       "      <th>2</th>\n",
       "      <td>2019</td>\n",
       "      <td>7010</td>\n",
       "      <td>0.026833</td>\n",
       "      <td>26.000000</td>\n",
       "      <td>46.166667</td>\n",
       "    </tr>\n",
       "  </tbody>\n",
       "</table>\n",
       "</div>"
      ],
      "text/plain": [
       "     경기    녹지        오존      초미세먼지       미세먼지\n",
       "0  2017  6380  0.028556  31.285714  54.875000\n",
       "1  2018  6836  0.029083  24.600000  44.066667\n",
       "2  2019  7010  0.026833  26.000000  46.166667"
      ]
     },
     "execution_count": 8,
     "metadata": {},
     "output_type": "execute_result"
    }
   ],
   "source": [
    "Gyeong = pd.read_csv(\"D:\\pm2021_01\\TeamProject\\경기.csv\",encoding='euc-kr', engine='python')\n",
    "Gyeong"
   ]
  },
  {
   "cell_type": "code",
   "execution_count": 10,
   "metadata": {},
   "outputs": [],
   "source": [
    "Gyeong['경기'] = Gyeong['경기'].astype(object)"
   ]
  },
  {
   "cell_type": "code",
   "execution_count": 17,
   "metadata": {},
   "outputs": [
    {
     "data": {
      "text/html": [
       "<div>\n",
       "<style scoped>\n",
       "    .dataframe tbody tr th:only-of-type {\n",
       "        vertical-align: middle;\n",
       "    }\n",
       "\n",
       "    .dataframe tbody tr th {\n",
       "        vertical-align: top;\n",
       "    }\n",
       "\n",
       "    .dataframe thead th {\n",
       "        text-align: right;\n",
       "    }\n",
       "</style>\n",
       "<table border=\"1\" class=\"dataframe\">\n",
       "  <thead>\n",
       "    <tr style=\"text-align: right;\">\n",
       "      <th></th>\n",
       "      <th>녹지</th>\n",
       "      <th>오존</th>\n",
       "      <th>초미세먼지</th>\n",
       "      <th>미세먼지</th>\n",
       "    </tr>\n",
       "  </thead>\n",
       "  <tbody>\n",
       "    <tr>\n",
       "      <th>녹지</th>\n",
       "      <td>1.000000</td>\n",
       "      <td>-0.538342</td>\n",
       "      <td>-0.891319</td>\n",
       "      <td>-0.898281</td>\n",
       "    </tr>\n",
       "    <tr>\n",
       "      <th>오존</th>\n",
       "      <td>-0.538342</td>\n",
       "      <td>1.000000</td>\n",
       "      <td>0.097762</td>\n",
       "      <td>0.113270</td>\n",
       "    </tr>\n",
       "    <tr>\n",
       "      <th>초미세먼지</th>\n",
       "      <td>-0.891319</td>\n",
       "      <td>0.097762</td>\n",
       "      <td>1.000000</td>\n",
       "      <td>0.999878</td>\n",
       "    </tr>\n",
       "    <tr>\n",
       "      <th>미세먼지</th>\n",
       "      <td>-0.898281</td>\n",
       "      <td>0.113270</td>\n",
       "      <td>0.999878</td>\n",
       "      <td>1.000000</td>\n",
       "    </tr>\n",
       "  </tbody>\n",
       "</table>\n",
       "</div>"
      ],
      "text/plain": [
       "             녹지        오존     초미세먼지      미세먼지\n",
       "녹지     1.000000 -0.538342 -0.891319 -0.898281\n",
       "오존    -0.538342  1.000000  0.097762  0.113270\n",
       "초미세먼지 -0.891319  0.097762  1.000000  0.999878\n",
       "미세먼지  -0.898281  0.113270  0.999878  1.000000"
      ]
     },
     "execution_count": 17,
     "metadata": {},
     "output_type": "execute_result"
    }
   ],
   "source": [
    "Gyeong.corr()"
   ]
  },
  {
   "cell_type": "code",
   "execution_count": 18,
   "metadata": {},
   "outputs": [
    {
     "name": "stderr",
     "output_type": "stream",
     "text": [
      "d:\\python36\\lib\\site-packages\\matplotlib\\backends\\backend_agg.py:238: RuntimeWarning: Glyph 8722 missing from current font.\n",
      "  font.set_text(s, 0.0, flags=flags)\n",
      "d:\\python36\\lib\\site-packages\\matplotlib\\backends\\backend_agg.py:201: RuntimeWarning: Glyph 8722 missing from current font.\n",
      "  font.set_text(s, 0, flags=flags)\n"
     ]
    },
    {
     "data": {
      "text/plain": [
       "<AxesSubplot:>"
      ]
     },
     "execution_count": 18,
     "metadata": {},
     "output_type": "execute_result"
    },
    {
     "data": {
      "image/png": "[encoded data removed]",
      "text/plain": [
       "<Figure size 1080x1080 with 2 Axes>"
      ]
     },
     "metadata": {
      "needs_background": "light"
     },
     "output_type": "display_data"
    }
   ],
   "source": [
    "import matplotlib.pyplot as plt \n",
    "import seaborn as sns  \n",
    "from matplotlib import font_manager, rc\n",
    "\n",
    "font_name = font_manager.FontProperties(fname = \"c:\\Windows\\Fonts\\malgun.ttf\").get_name()\n",
    "rc(\"font\", family=font_name)\n",
    "plt.figure(figsize=(15,15))\n",
    "sns.heatmap(data = Gyeong.corr(), annot=True, \n",
    "fmt = '.2f', linewidths=.5, cmap='Blues')"
   ]
  }
 ],
 "metadata": {
  "kernelspec": {
   "display_name": "Python 3",
   "language": "python",
   "name": "python3"
  },
  "language_info": {
   "codemirror_mode": {
    "name": "ipython",
    "version": 3
   },
   "file_extension": ".py",
   "mimetype": "text/x-python",
   "name": "python",
   "nbconvert_exporter": "python",
   "pygments_lexer": "ipython3",
   "version": "3.6.8"
  }
 },
 "nbformat": 4,
 "nbformat_minor": 4
}
