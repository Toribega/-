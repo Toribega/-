{
 "cells": [
  {
   "cell_type": "code",
   "execution_count": 1,
   "metadata": {},
   "outputs": [],
   "source": [
    "import csv\n",
    "import pandas as pd"
   ]
  },
  {
   "cell_type": "code",
   "execution_count": 2,
   "metadata": {},
   "outputs": [
    {
     "data": {
      "text/html": [
       "<div>\n",
       "<style scoped>\n",
       "    .dataframe tbody tr th:only-of-type {\n",
       "        vertical-align: middle;\n",
       "    }\n",
       "\n",
       "    .dataframe tbody tr th {\n",
       "        vertical-align: top;\n",
       "    }\n",
       "\n",
       "    .dataframe thead th {\n",
       "        text-align: right;\n",
       "    }\n",
       "</style>\n",
       "<table border=\"1\" class=\"dataframe\">\n",
       "  <thead>\n",
       "    <tr style=\"text-align: right;\">\n",
       "      <th></th>\n",
       "      <th>서울</th>\n",
       "      <th>녹지</th>\n",
       "      <th>오존</th>\n",
       "      <th>초미세먼지</th>\n",
       "      <th>미세먼지</th>\n",
       "    </tr>\n",
       "  </thead>\n",
       "  <tbody>\n",
       "    <tr>\n",
       "      <th>0</th>\n",
       "      <td>2017</td>\n",
       "      <td>1040</td>\n",
       "      <td>0.028867</td>\n",
       "      <td>27.571429</td>\n",
       "      <td>48.000000</td>\n",
       "    </tr>\n",
       "    <tr>\n",
       "      <th>1</th>\n",
       "      <td>2018</td>\n",
       "      <td>1023</td>\n",
       "      <td>0.089170</td>\n",
       "      <td>22.700000</td>\n",
       "      <td>39.750000</td>\n",
       "    </tr>\n",
       "    <tr>\n",
       "      <th>2</th>\n",
       "      <td>2019</td>\n",
       "      <td>1017</td>\n",
       "      <td>0.024917</td>\n",
       "      <td>24.833333</td>\n",
       "      <td>41.583333</td>\n",
       "    </tr>\n",
       "  </tbody>\n",
       "</table>\n",
       "</div>"
      ],
      "text/plain": [
       "     서울    녹지        오존      초미세먼지       미세먼지\n",
       "0  2017  1040  0.028867  27.571429  48.000000\n",
       "1  2018  1023  0.089170  22.700000  39.750000\n",
       "2  2019  1017  0.024917  24.833333  41.583333"
      ]
     },
     "execution_count": 2,
     "metadata": {},
     "output_type": "execute_result"
    }
   ],
   "source": [
    "Seoul = pd.read_csv(\"D:\\pm2021_01\\TeamProject\\서울.csv\",encoding='euc-kr', engine='python')\n",
    "Seoul"
   ]
  },
  {
   "cell_type": "code",
   "execution_count": 3,
   "metadata": {},
   "outputs": [],
   "source": [
    "Seoul['서울'] = Seoul['서울'].astype(object)"
   ]
  },
  {
   "cell_type": "code",
   "execution_count": 4,
   "metadata": {},
   "outputs": [
    {
     "data": {
      "text/html": [
       "<div>\n",
       "<style scoped>\n",
       "    .dataframe tbody tr th:only-of-type {\n",
       "        vertical-align: middle;\n",
       "    }\n",
       "\n",
       "    .dataframe tbody tr th {\n",
       "        vertical-align: top;\n",
       "    }\n",
       "\n",
       "    .dataframe thead th {\n",
       "        text-align: right;\n",
       "    }\n",
       "</style>\n",
       "<table border=\"1\" class=\"dataframe\">\n",
       "  <thead>\n",
       "    <tr style=\"text-align: right;\">\n",
       "      <th></th>\n",
       "      <th>녹지</th>\n",
       "      <th>오존</th>\n",
       "      <th>초미세먼지</th>\n",
       "      <th>미세먼지</th>\n",
       "    </tr>\n",
       "  </thead>\n",
       "  <tbody>\n",
       "    <tr>\n",
       "      <th>녹지</th>\n",
       "      <td>1.000000</td>\n",
       "      <td>-0.212896</td>\n",
       "      <td>0.760811</td>\n",
       "      <td>0.892741</td>\n",
       "    </tr>\n",
       "    <tr>\n",
       "      <th>오존</th>\n",
       "      <td>-0.212896</td>\n",
       "      <td>1.000000</td>\n",
       "      <td>-0.796069</td>\n",
       "      <td>-0.630301</td>\n",
       "    </tr>\n",
       "    <tr>\n",
       "      <th>초미세먼지</th>\n",
       "      <td>0.760811</td>\n",
       "      <td>-0.796069</td>\n",
       "      <td>1.000000</td>\n",
       "      <td>0.971615</td>\n",
       "    </tr>\n",
       "    <tr>\n",
       "      <th>미세먼지</th>\n",
       "      <td>0.892741</td>\n",
       "      <td>-0.630301</td>\n",
       "      <td>0.971615</td>\n",
       "      <td>1.000000</td>\n",
       "    </tr>\n",
       "  </tbody>\n",
       "</table>\n",
       "</div>"
      ],
      "text/plain": [
       "             녹지        오존     초미세먼지      미세먼지\n",
       "녹지     1.000000 -0.212896  0.760811  0.892741\n",
       "오존    -0.212896  1.000000 -0.796069 -0.630301\n",
       "초미세먼지  0.760811 -0.796069  1.000000  0.971615\n",
       "미세먼지   0.892741 -0.630301  0.971615  1.000000"
      ]
     },
     "execution_count": 4,
     "metadata": {},
     "output_type": "execute_result"
    }
   ],
   "source": [
    "Seoul.corr()"
   ]
  },
  {
   "cell_type": "code",
   "execution_count": 5,
   "metadata": {
    "scrolled": false
   },
   "outputs": [
    {
     "name": "stderr",
     "output_type": "stream",
     "text": [
      "d:\\python36\\lib\\site-packages\\matplotlib\\backends\\backend_agg.py:238: RuntimeWarning: Glyph 8722 missing from current font.\n",
      "  font.set_text(s, 0.0, flags=flags)\n",
      "d:\\python36\\lib\\site-packages\\matplotlib\\backends\\backend_agg.py:201: RuntimeWarning: Glyph 8722 missing from current font.\n",
      "  font.set_text(s, 0, flags=flags)\n"
     ]
    },
    {
     "data": {
      "text/plain": [
       "<AxesSubplot:>"
      ]
     },
     "execution_count": 5,
     "metadata": {},
     "output_type": "execute_result"
    },
    {
     "data": {
      "image/png": "[encoded data removed]",
      "text/plain": [
       "<Figure size 1080x1080 with 2 Axes>"
      ]
     },
     "metadata": {
      "needs_background": "light"
     },
     "output_type": "display_data"
    }
   ],
   "source": [
    "import matplotlib.pyplot as plt \n",
    "import seaborn as sns  \n",
    "from matplotlib import font_manager, rc\n",
    "\n",
    "font_name = font_manager.FontProperties(fname = \"c:\\Windows\\Fonts\\malgun.ttf\").get_name()\n",
    "rc(\"font\", family=font_name)\n",
    "plt.figure(figsize=(15,15))\n",
    "sns.heatmap(data = Seoul.corr(), annot=True, \n",
    "fmt = '.2f', linewidths=.5, cmap='Blues')"
   ]
  },
  {
   "cell_type": "code",
   "execution_count": null,
   "metadata": {},
   "outputs": [],
   "source": []
  }
 ],
 "metadata": {
  "kernelspec": {
   "display_name": "Python 3",
   "language": "python",
   "name": "python3"
  },
  "language_info": {
   "codemirror_mode": {
    "name": "ipython",
    "version": 3
   },
   "file_extension": ".py",
   "mimetype": "text/x-python",
   "name": "python",
   "nbconvert_exporter": "python",
   "pygments_lexer": "ipython3",
   "version": "3.6.8"
  }
 },
 "nbformat": 4,
 "nbformat_minor": 4
}
