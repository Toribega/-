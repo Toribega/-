{
 "cells": [
  {
   "cell_type": "code",
   "execution_count": 1,
   "metadata": {},
   "outputs": [],
   "source": [
    "import csv\n",
    "import pandas as pd"
   ]
  },
  {
   "cell_type": "code",
   "execution_count": 3,
   "metadata": {
    "scrolled": true
   },
   "outputs": [
    {
     "data": {
      "text/html": [
       "<div>\n",
       "<style scoped>\n",
       "    .dataframe tbody tr th:only-of-type {\n",
       "        vertical-align: middle;\n",
       "    }\n",
       "\n",
       "    .dataframe tbody tr th {\n",
       "        vertical-align: top;\n",
       "    }\n",
       "\n",
       "    .dataframe thead th {\n",
       "        text-align: right;\n",
       "    }\n",
       "</style>\n",
       "<table border=\"1\" class=\"dataframe\">\n",
       "  <thead>\n",
       "    <tr style=\"text-align: right;\">\n",
       "      <th></th>\n",
       "      <th>충남</th>\n",
       "      <th>녹지</th>\n",
       "      <th>오존</th>\n",
       "      <th>미세먼지</th>\n",
       "      <th>초미세먼지</th>\n",
       "    </tr>\n",
       "  </thead>\n",
       "  <tbody>\n",
       "    <tr>\n",
       "      <th>0</th>\n",
       "      <td>2017</td>\n",
       "      <td>1635</td>\n",
       "      <td>0.030333</td>\n",
       "      <td>48.750000</td>\n",
       "      <td>26.142857</td>\n",
       "    </tr>\n",
       "    <tr>\n",
       "      <th>1</th>\n",
       "      <td>2018</td>\n",
       "      <td>1657</td>\n",
       "      <td>0.029333</td>\n",
       "      <td>40.166667</td>\n",
       "      <td>21.300000</td>\n",
       "    </tr>\n",
       "    <tr>\n",
       "      <th>2</th>\n",
       "      <td>2019</td>\n",
       "      <td>1704</td>\n",
       "      <td>0.032083</td>\n",
       "      <td>43.666667</td>\n",
       "      <td>25.666667</td>\n",
       "    </tr>\n",
       "  </tbody>\n",
       "</table>\n",
       "</div>"
      ],
      "text/plain": [
       "     충남    녹지        오존       미세먼지      초미세먼지\n",
       "0  2017  1635  0.030333  48.750000  26.142857\n",
       "1  2018  1657  0.029333  40.166667  21.300000\n",
       "2  2019  1704  0.032083  43.666667  25.666667"
      ]
     },
     "execution_count": 3,
     "metadata": {},
     "output_type": "execute_result"
    }
   ],
   "source": [
    "chung_s = pd.read_csv(\"D:\\pm2021_01\\TeamProject\\충남.csv\",encoding='euc-kr', engine='python')\n",
    "chung_s"
   ]
  },
  {
   "cell_type": "code",
   "execution_count": 4,
   "metadata": {},
   "outputs": [],
   "source": [
    "chung_s['충남'] = chung_s['충남'].astype(object)"
   ]
  },
  {
   "cell_type": "code",
   "execution_count": 6,
   "metadata": {},
   "outputs": [
    {
     "data": {
      "text/html": [
       "<div>\n",
       "<style scoped>\n",
       "    .dataframe tbody tr th:only-of-type {\n",
       "        vertical-align: middle;\n",
       "    }\n",
       "\n",
       "    .dataframe tbody tr th {\n",
       "        vertical-align: top;\n",
       "    }\n",
       "\n",
       "    .dataframe thead th {\n",
       "        text-align: right;\n",
       "    }\n",
       "</style>\n",
       "<table border=\"1\" class=\"dataframe\">\n",
       "  <thead>\n",
       "    <tr style=\"text-align: right;\">\n",
       "      <th></th>\n",
       "      <th>녹지</th>\n",
       "      <th>오존</th>\n",
       "      <th>미세먼지</th>\n",
       "      <th>초미세먼지</th>\n",
       "    </tr>\n",
       "  </thead>\n",
       "  <tbody>\n",
       "    <tr>\n",
       "      <th>녹지</th>\n",
       "      <td>1.000000</td>\n",
       "      <td>0.774540</td>\n",
       "      <td>-0.410944</td>\n",
       "      <td>0.116626</td>\n",
       "    </tr>\n",
       "    <tr>\n",
       "      <th>오존</th>\n",
       "      <td>0.774540</td>\n",
       "      <td>1.000000</td>\n",
       "      <td>0.258356</td>\n",
       "      <td>0.718540</td>\n",
       "    </tr>\n",
       "    <tr>\n",
       "      <th>미세먼지</th>\n",
       "      <td>-0.410944</td>\n",
       "      <td>0.258356</td>\n",
       "      <td>1.000000</td>\n",
       "      <td>0.857513</td>\n",
       "    </tr>\n",
       "    <tr>\n",
       "      <th>초미세먼지</th>\n",
       "      <td>0.116626</td>\n",
       "      <td>0.718540</td>\n",
       "      <td>0.857513</td>\n",
       "      <td>1.000000</td>\n",
       "    </tr>\n",
       "  </tbody>\n",
       "</table>\n",
       "</div>"
      ],
      "text/plain": [
       "             녹지        오존      미세먼지     초미세먼지\n",
       "녹지     1.000000  0.774540 -0.410944  0.116626\n",
       "오존     0.774540  1.000000  0.258356  0.718540\n",
       "미세먼지  -0.410944  0.258356  1.000000  0.857513\n",
       "초미세먼지  0.116626  0.718540  0.857513  1.000000"
      ]
     },
     "execution_count": 6,
     "metadata": {},
     "output_type": "execute_result"
    }
   ],
   "source": [
    "chung_s.corr()"
   ]
  },
  {
   "cell_type": "code",
   "execution_count": 7,
   "metadata": {},
   "outputs": [
    {
     "name": "stderr",
     "output_type": "stream",
     "text": [
      "d:\\python36\\lib\\site-packages\\matplotlib\\backends\\backend_agg.py:238: RuntimeWarning: Glyph 8722 missing from current font.\n",
      "  font.set_text(s, 0.0, flags=flags)\n",
      "d:\\python36\\lib\\site-packages\\matplotlib\\backends\\backend_agg.py:201: RuntimeWarning: Glyph 8722 missing from current font.\n",
      "  font.set_text(s, 0, flags=flags)\n"
     ]
    },
    {
     "data": {
      "text/plain": [
       "<AxesSubplot:>"
      ]
     },
     "execution_count": 7,
     "metadata": {},
     "output_type": "execute_result"
    },
    {
     "data": {
      "image/png": "[encoded data removed]",
      "text/plain": [
       "<Figure size 1080x1080 with 2 Axes>"
      ]
     },
     "metadata": {
      "needs_background": "light"
     },
     "output_type": "display_data"
    }
   ],
   "source": [
    "import matplotlib.pyplot as plt \n",
    "import seaborn as sns  \n",
    "from matplotlib import font_manager, rc\n",
    "\n",
    "font_name = font_manager.FontProperties(fname = \"c:\\Windows\\Fonts\\malgun.ttf\").get_name()\n",
    "rc(\"font\", family=font_name)\n",
    "plt.figure(figsize=(15,15))\n",
    "sns.heatmap(data = chung_s.corr(), annot=True, \n",
    "fmt = '.2f', linewidths=.5, cmap='Blues')"
   ]
  }
 ],
 "metadata": {
  "kernelspec": {
   "display_name": "Python 3",
   "language": "python",
   "name": "python3"
  },
  "language_info": {
   "codemirror_mode": {
    "name": "ipython",
    "version": 3
   },
   "file_extension": ".py",
   "mimetype": "text/x-python",
   "name": "python",
   "nbconvert_exporter": "python",
   "pygments_lexer": "ipython3",
   "version": "3.6.8"
  }
 },
 "nbformat": 4,
 "nbformat_minor": 4
}
